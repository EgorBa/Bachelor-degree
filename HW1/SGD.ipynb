{
 "cells": [
  {
   "cell_type": "code",
   "execution_count": 1,
   "metadata": {},
   "outputs": [],
   "source": [
    "import pandas as pd\n",
    "import numpy as np"
   ]
  },
  {
   "cell_type": "markdown",
   "metadata": {},
   "source": [
    "Импортируем нужные библиотеки"
   ]
  },
  {
   "cell_type": "code",
   "execution_count": 2,
   "metadata": {},
   "outputs": [],
   "source": [
    "def get_sim(item_id):\n",
    "    rat = [(other_item_id, np.linalg.norm(H[:, item_id - 1] - H[:, other_item_id - 1]))\n",
    "           for other_item_id in ratings[\"movie_id\"].unique()]\n",
    "    items_ratings = sorted(rat, key=lambda x: x[1])\n",
    "    return items_ratings[:10]\n",
    "\n",
    "\n",
    "def get_recom(user_id):\n",
    "    unique_movies = set(movies.to_numpy())\n",
    "    for k in range(len(ratings_np)):\n",
    "        if ratings_np[k][0] == user_id:\n",
    "            unique_movies.remove(ratings_np[k][1])\n",
    "    unique_movies_arr = []\n",
    "    for t in unique_movies:\n",
    "        unique_movies_arr.append(t)\n",
    "    new_items_ratings = (W @ H)[user_id - 1][np.array(unique_movies_arr) - 1]\n",
    "    items_ratings = sorted(list(zip(unique_movies, new_items_ratings)), key=lambda x: x[1], reverse=True)\n",
    "    return items_ratings[:10]"
   ]
  },
  {
   "cell_type": "markdown",
   "metadata": {},
   "source": [
    "Два дополнительных метода, чтобы считать симилары для конкретного айтема и рекомендации для конкретного юзера"
   ]
  },
  {
   "cell_type": "code",
   "execution_count": 3,
   "metadata": {},
   "outputs": [],
   "source": [
    "ratings = pd.read_csv('ratings.dat', delimiter='::', header=None,\n",
    "                      names=['user_id', 'movie_id', 'rating', 'timestamp'],\n",
    "                      usecols=['user_id', 'movie_id', 'rating'], engine='python')\n",
    "\n",
    "movie_info = pd.read_csv('movies.dat', delimiter='::', header=None,\n",
    "                         names=['movie_id', 'name', 'category'], engine='python')\n",
    "\n",
    "users = ratings[\"user_id\"]\n",
    "movies = ratings[\"movie_id\"]\n",
    "ratings_np = ratings.to_numpy()\n",
    "users_size = users.max()\n",
    "items_size = movies.max()"
   ]
  },
  {
   "cell_type": "markdown",
   "metadata": {},
   "source": [
    "Подгружаем наш датасет"
   ]
  },
  {
   "cell_type": "code",
   "execution_count": 4,
   "metadata": {},
   "outputs": [],
   "source": [
    "K = 30\n",
    "eps = 0.01\n",
    "lam = 1e-5\n",
    "count_iter = 10000000"
   ]
  },
  {
   "cell_type": "markdown",
   "metadata": {},
   "source": [
    "Подбираем гиперпараметры модели"
   ]
  },
  {
   "cell_type": "code",
   "execution_count": 5,
   "metadata": {},
   "outputs": [],
   "source": [
    "W = np.random.uniform(0, 1 / np.sqrt(K), size=(users_size, K))\n",
    "H = np.random.uniform(0, 1 / np.sqrt(K), size=(K, items_size))"
   ]
  },
  {
   "cell_type": "markdown",
   "metadata": {},
   "source": [
    "Инициализируем матрицы юзеров (W) и айтемов (H)"
   ]
  },
  {
   "cell_type": "code",
   "execution_count": 6,
   "metadata": {},
   "outputs": [],
   "source": [
    "for t in range(count_iter):\n",
    "    k = np.random.randint(len(ratings_np))\n",
    "    i = ratings_np[k][0] - 1\n",
    "    j = ratings_np[k][1] - 1\n",
    "    l = ratings_np[k][2]\n",
    "    error = W[i, :] @ H[:, j] - l\n",
    "    W[i, :] = W[i, :] - eps * (error * H[:, j].T + lam * W[i, :])\n",
    "    H[:, j] = H[:, j] - eps * (error * W[i, :].T + lam * H[:, j])"
   ]
  },
  {
   "cell_type": "markdown",
   "metadata": {},
   "source": [
    "Обучаем нашу модель на explicit данных"
   ]
  },
  {
   "cell_type": "code",
   "execution_count": 7,
   "metadata": {},
   "outputs": [
    {
     "name": "stdout",
     "output_type": "stream",
     "text": [
      "0    Toy Story (1995)\n",
      "3045    Toy Story 2 (1999)\n",
      "584    Aladdin (1992)\n",
      "3090    Fantasia 2000 (1999)\n",
      "2618    Tarzan (1999)\n",
      "922    Father of the Bride (1950)\n",
      "2496    King and I, The (1956)\n",
      "1636    Truman Show, The (1998)\n",
      "2011    Lady and the Tramp (1955)\n",
      "3400    Inherit the Wind (1960)\n"
     ]
    }
   ],
   "source": [
    "get_similars = lambda item_id, model: [movie_info[movie_info[\"movie_id\"] == x[0]][\"name\"].to_string() for x in model]\n",
    "for i in get_similars(1, get_sim(1)):\n",
    "    print(i)"
   ]
  },
  {
   "cell_type": "markdown",
   "metadata": {},
   "source": [
    "Симилары действительно симилары"
   ]
  },
  {
   "cell_type": "code",
   "execution_count": 8,
   "metadata": {},
   "outputs": [
    {
     "name": "stdout",
     "output_type": "stream",
     "text": [
      "523    Schindler's List (1993)\n",
      "847    Godfather, The (1972)\n",
      "740    Dr. Strangelove or: How I Learned to Stop Worr...\n",
      "1203    Godfather: Part II, The (1974)\n",
      "1189    To Kill a Mockingbird (1962)\n",
      "2327    Shakespeare in Love (1998)\n",
      "3360    Creature Comforts (1990)\n",
      "900    Casablanca (1942)\n",
      "1186    Lawrence of Arabia (1962)\n",
      "1176    One Flew Over the Cuckoo's Nest (1975)\n"
     ]
    }
   ],
   "source": [
    "get_recommendations = lambda user_id, model: [movie_info[movie_info[\"movie_id\"] == x[0]][\"name\"].to_string() for x in model]\n",
    "for i in get_recommendations(4, get_recom(4)):\n",
    "    print(i)"
   ]
  },
  {
   "cell_type": "markdown",
   "metadata": {},
   "source": [
    "Рекомендации тоже вышли неплохие"
   ]
  }
 ],
 "metadata": {
  "kernelspec": {
   "display_name": "Python 3",
   "language": "python",
   "name": "python3"
  },
  "language_info": {
   "codemirror_mode": {
    "name": "ipython",
    "version": 3
   },
   "file_extension": ".py",
   "mimetype": "text/x-python",
   "name": "python",
   "nbconvert_exporter": "python",
   "pygments_lexer": "ipython3",
   "version": "3.8.5"
  }
 },
 "nbformat": 4,
 "nbformat_minor": 4
}
