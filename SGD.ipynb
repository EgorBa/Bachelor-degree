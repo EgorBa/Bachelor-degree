{
 "cells": [
  {
   "cell_type": "code",
   "execution_count": null,
   "metadata": {},
   "outputs": [],
   "source": [
    "import pandas as pd\n",
    "import numpy as np"
   ]
  },
  {
   "cell_type": "markdown",
   "metadata": {},
   "source": [
    "Импортируем нужные библиотеки"
   ]
  },
  {
   "cell_type": "code",
   "execution_count": null,
   "metadata": {},
   "outputs": [],
   "source": [
    "def get_sim(item_id):\n",
    "    rat = [(other_item_id, np.linalg.norm(H[:, item_id - 1] - H[:, other_item_id - 1]))\n",
    "           for other_item_id in ratings[\"movie_id\"].unique()]\n",
    "    items_ratings = sorted(rat, key=lambda x: x[1])\n",
    "    return items_ratings[:10]\n",
    "\n",
    "\n",
    "def get_recom(user_id):\n",
    "    unique_movies = set(movies.to_numpy())\n",
    "    for k in range(len(ratings_np)):\n",
    "        if ratings_np[k][0] == user_id:\n",
    "            unique_movies.remove(ratings_np[k][1])\n",
    "    unique_movies_arr = []\n",
    "    for t in unique_movies:\n",
    "        unique_movies_arr.append(t)\n",
    "    new_items_ratings = (W @ H)[user_id - 1][np.array(unique_movies_arr) - 1]\n",
    "    items_ratings = sorted(list(zip(unique_movies, new_items_ratings)), key=lambda x: x[1], reverse=True)\n",
    "    return items_ratings[:10]"
   ]
  },
  {
   "cell_type": "markdown",
   "metadata": {},
   "source": [
    "Два дополнительных метода, чтобы считать симилары для конкретного айтема и рекомендации для конкретного юзера"
   ]
  },
  {
   "cell_type": "code",
   "execution_count": null,
   "metadata": {},
   "outputs": [],
   "source": [
    "ratings = pd.read_csv('ratings.dat', delimiter='::', header=None,\n",
    "                      names=['user_id', 'movie_id', 'rating', 'timestamp'],\n",
    "                      usecols=['user_id', 'movie_id', 'rating'], engine='python')\n",
    "\n",
    "movie_info = pd.read_csv('movies.dat', delimiter='::', header=None,\n",
    "                         names=['movie_id', 'name', 'category'], engine='python')\n",
    "\n",
    "users = ratings[\"user_id\"]\n",
    "movies = ratings[\"movie_id\"]\n",
    "ratings_np = ratings.to_numpy()\n",
    "users_size = users.max()\n",
    "items_size = movies.max()"
   ]
  },
  {
   "cell_type": "markdown",
   "metadata": {},
   "source": [
    "Подгружаем наш датасет"
   ]
  },
  {
   "cell_type": "code",
   "execution_count": null,
   "metadata": {},
   "outputs": [],
   "source": [
    "K = 30\n",
    "eps = 0.01\n",
    "lam = 1e-5\n",
    "count_iter = 10000000"
   ]
  },
  {
   "cell_type": "markdown",
   "metadata": {},
   "source": [
    "Подбираем гиперпараметры модели"
   ]
  },
  {
   "cell_type": "code",
   "execution_count": null,
   "metadata": {},
   "outputs": [],
   "source": [
    "W = np.random.uniform(0, 1 / np.sqrt(K), size=(users_size, K))\n",
    "H = np.random.uniform(0, 1 / np.sqrt(K), size=(K, items_size))"
   ]
  },
  {
   "cell_type": "markdown",
   "metadata": {},
   "source": [
    "Инициализируем матрицы юзеров (W) и айтемов (H)"
   ]
  },
  {
   "cell_type": "code",
   "execution_count": null,
   "metadata": {},
   "outputs": [],
   "source": [
    "for t in range(count_iter):\n",
    "    k = np.random.randint(len(ratings_np))\n",
    "    i = ratings_np[k][0] - 1\n",
    "    j = ratings_np[k][1] - 1\n",
    "    l = ratings_np[k][2]\n",
    "    error = W[i, :] @ H[:, j] - l\n",
    "    W[i, :] = W[i, :] - eps * (error * H[:, j].T + lam * W[i, :])\n",
    "    H[:, j] = H[:, j] - eps * (error * W[i, :].T + lam * H[:, j])"
   ]
  },
  {
   "cell_type": "markdown",
   "metadata": {},
   "source": [
    "Обучаем нашу модель на explicit данных"
   ]
  },
  {
   "cell_type": "code",
   "execution_count": null,
   "metadata": {},
   "outputs": [],
   "source": [
    "get_similars = lambda item_id, model: [movie_info[movie_info[\"movie_id\"] == x[0]][\"name\"].to_string() for x in model]\n",
    "print(get_similars(1, get_sim(1)))"
   ]
  },
  {
   "cell_type": "raw",
   "metadata": {},
   "source": [
    "Находим симилары \n",
    "\n",
    "['0    Toy Story (1995)', \n",
    "'3045    Toy Story 2 (1999)', \n",
    "\"2286    Bug's Life, A (1998)\", \n",
    "'2233    My Cousin Vinny (1992)', \n",
    "'922    Father of the Bride (1950)', \n",
    "'2618    Tarzan (1999)', \n",
    "'2225    Antz (1998)', '\n",
    "1838    Mulan (1998)',\n",
    "\"941    It's a Wonderful Life (1946)\", \n",
    "'1242    Great Escape, The (1963)']"
   ]
  },
  {
   "cell_type": "code",
   "execution_count": null,
   "metadata": {},
   "outputs": [],
   "source": [
    "get_recommendations = lambda user_id, model: [movie_info[movie_info[\"movie_id\"] == x[0]][\"name\"].to_string() for x in model]\n",
    "print(get_recommendations(4, get_recom(4)))"
   ]
  },
  {
   "cell_type": "markdown",
   "metadata": {},
   "source": [
    "|Рекомендации|\n",
    "|--------------|\n",
    "|'847    Godfather, The (1972)'|\n",
    "|'1189    To Kill a Mockingbird (1962)'|\n",
    "|'662    Pather Panchali (1955)'|\n",
    "|'49    Usual Suspects, The (1995)'| \n",
    "|'911    Citizen Kane (1941)'|\n",
    "|'2836    Sanjuro (1962)'|\n",
    "|'315    Shawshank Redemption, The (1994)'|\n",
    "|'1230    Bridge on the River Kwai, The (1957)'|\n",
    "|'2961    Yojimbo (1961)'|\n",
    "|\"1176    One Flew Over the Cuckoo's Nest (1975)\"|"
   ]
  }
 ],
 "metadata": {
  "kernelspec": {
   "display_name": "Python 3",
   "language": "python",
   "name": "python3"
  },
  "language_info": {
   "codemirror_mode": {
    "name": "ipython",
    "version": 3
   },
   "file_extension": ".py",
   "mimetype": "text/x-python",
   "name": "python",
   "nbconvert_exporter": "python",
   "pygments_lexer": "ipython3",
   "version": "3.8.5"
  }
 },
 "nbformat": 4,
 "nbformat_minor": 4
}
