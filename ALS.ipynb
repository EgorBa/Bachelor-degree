{
 "cells": [
  {
   "cell_type": "code",
   "execution_count": null,
   "metadata": {},
   "outputs": [],
   "source": [
    "import pandas as pd\n",
    "import numpy as np\n",
    "import scipy.sparse as sp"
   ]
  },
  {
   "cell_type": "markdown",
   "metadata": {},
   "source": [
    "Импортируем нужные библиотеки"
   ]
  },
  {
   "cell_type": "code",
   "execution_count": null,
   "metadata": {},
   "outputs": [],
   "source": [
    "def get_sim(item_id):\n",
    "    rat = [(other_item_id, np.linalg.norm(H[:, item_id - 1] - H[:, other_item_id - 1]))\n",
    "           for other_item_id in ratings[\"movie_id\"].unique()]\n",
    "    items_ratings = sorted(rat, key=lambda x: x[1])\n",
    "    return items_ratings[:10]\n",
    "\n",
    "\n",
    "def get_recom(user_id):\n",
    "    unique_movies = set(movies.to_numpy())\n",
    "    for k in range(len(ratings_np)):\n",
    "        if ratings_np[k][0] == user_id:\n",
    "            unique_movies.remove(ratings_np[k][1])\n",
    "    unique_movies_arr = []\n",
    "    for t in unique_movies:\n",
    "        unique_movies_arr.append(t)\n",
    "    new_items_ratings = (W @ H)[user_id - 1][np.array(unique_movies_arr) - 1]\n",
    "    items_ratings = sorted(list(zip(unique_movies, new_items_ratings)), key=lambda x: x[1], reverse=True)\n",
    "    return items_ratings[:10]"
   ]
  },
  {
   "cell_type": "markdown",
   "metadata": {},
   "source": [
    "Два дополнительных метода, чтобы считать симилары для конкретного айтема и рекомендации для конкретного юзера"
   ]
  },
  {
   "cell_type": "code",
   "execution_count": null,
   "metadata": {},
   "outputs": [],
   "source": [
    "ratings = pd.read_csv('ratings.dat', delimiter='::', header=None,\n",
    "                      names=['user_id', 'movie_id', 'rating', 'timestamp'],\n",
    "                      usecols=['user_id', 'movie_id', 'rating'], engine='python')\n",
    "\n",
    "movie_info = pd.read_csv('movies.dat', delimiter='::', header=None,\n",
    "                         names=['movie_id', 'name', 'category'], engine='python')\n",
    "\n",
    "users = ratings[\"user_id\"]\n",
    "movies = ratings[\"movie_id\"]\n",
    "ratings_np = ratings.to_numpy()\n",
    "users_size = users.max()\n",
    "items_size = movies.max()\n",
    "implicit_ratings = ratings.loc[(ratings['rating'] >= 4)]\n",
    "implicit_ratings_np = implicit_ratings.to_numpy()\n",
    "user_item = sp.coo_matrix(\n",
    "    (np.ones_like(implicit_ratings[\"user_id\"]), (implicit_ratings[\"user_id\"], implicit_ratings[\"movie_id\"])))\n",
    "user_item_csr_arr = user_item.tocsr().toarray()"
   ]
  },
  {
   "cell_type": "markdown",
   "metadata": {},
   "source": [
    "Подгружаем наш датасет"
   ]
  },
  {
   "cell_type": "code",
   "execution_count": null,
   "metadata": {},
   "outputs": [],
   "source": [
    "K = 30\n",
    "eps = 0.01\n",
    "lam = 1e-5\n",
    "count_iter = 10"
   ]
  },
  {
   "cell_type": "markdown",
   "metadata": {},
   "source": [
    "Подбираем гиперпараметры модели"
   ]
  },
  {
   "cell_type": "code",
   "execution_count": null,
   "metadata": {},
   "outputs": [],
   "source": [
    "W = np.random.uniform(0, 1 / np.sqrt(K), size=(users_size, K))\n",
    "H = np.random.uniform(0, 1 / np.sqrt(K), size=(K, items_size))"
   ]
  },
  {
   "cell_type": "markdown",
   "metadata": {},
   "source": [
    "Инициализируем матрицы юзеров (W) и айтемов (H)"
   ]
  },
  {
   "cell_type": "code",
   "execution_count": null,
   "metadata": {},
   "outputs": [],
   "source": [
    "for t in range(count_iter):\n",
    "    W_W = (np.linalg.pinv(H.T @ H + lam) @ H.T).T\n",
    "    for user in range(users_size):\n",
    "        W[user, :] = (W_W @ user_item_csr_arr[user + 1, 1:].T).T\n",
    "    H_H = np.linalg.inv(W.T @ W + lam) @ W.T\n",
    "    for item in range(items_size):\n",
    "        H[:, item] = H_H @ user_item_csr_arr[1:, item + 1]"
   ]
  },
  {
   "cell_type": "markdown",
   "metadata": {},
   "source": [
    "Обучаем нашу модель на implicit данных"
   ]
  },
  {
   "cell_type": "code",
   "execution_count": null,
   "metadata": {},
   "outputs": [],
   "source": [
    "get_similars = lambda item_id, model: [movie_info[movie_info[\"movie_id\"] == x[0]][\"name\"].to_string() for x in model]\n",
    "print(get_similars(1, get_sim(1)))"
   ]
  },
  {
   "cell_type": "raw",
   "metadata": {},
   "source": [
    "Находим симилары \n",
    "\n",
    "['0    Toy Story (1995)', \n",
    "'3045    Toy Story 2 (1999)', \n",
    "'33    Babe (1995)', \n",
    "'584    Aladdin (1992)', \n",
    "\"2286    Bug's Life, A (1998)\", \n",
    "'1132    Wrong Trousers, The (1993)', \n",
    "'735    Close Shave, A (1995)', \n",
    "'2252    Pleasantville (1998)', \n",
    "'1205    Grand Day Out, A (1992)', \n",
    "'2692    Iron Giant, The (1999)']"
   ]
  },
  {
   "cell_type": "code",
   "execution_count": null,
   "metadata": {},
   "outputs": [],
   "source": [
    "get_recommendations = lambda user_id, model: [movie_info[movie_info[\"movie_id\"] == x[0]][\"name\"].to_string() for x in model]\n",
    "print(get_recommendations(4, get_recom(4)))"
   ]
  },
  {
   "cell_type": "raw",
   "metadata": {},
   "source": [
    "Находим рекомендации\n",
    "\n",
    "['1182    Aliens (1986)', \n",
    "'847    Godfather, The (1972)', \n",
    "'585    Terminator 2: Judgment Day (1991)', \n",
    "'1271    Indiana Jones and the Last Crusade (1989)', \n",
    "'2502    Matrix, The (1999)', \n",
    "'1203    Godfather: Part II, The (1974)',\n",
    "'453    Fugitive, The (1993)', \n",
    "'1284    Butch Cassidy and the Sundance Kid (1969)',\n",
    "'1931    Lethal Weapon (1987)', \n",
    "'2460    Planet of the Apes (1968)']s"
   ]
  }
 ],
 "metadata": {
  "kernelspec": {
   "display_name": "Python 3",
   "language": "python",
   "name": "python3"
  },
  "language_info": {
   "codemirror_mode": {
    "name": "ipython",
    "version": 3
   },
   "file_extension": ".py",
   "mimetype": "text/x-python",
   "name": "python",
   "nbconvert_exporter": "python",
   "pygments_lexer": "ipython3",
   "version": "3.8.5"
  }
 },
 "nbformat": 4,
 "nbformat_minor": 4
}
